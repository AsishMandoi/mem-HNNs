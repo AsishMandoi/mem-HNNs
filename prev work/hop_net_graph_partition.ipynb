{
  "cells": [
    {
      "cell_type": "code",
      "execution_count": null,
      "metadata": {
        "id": "tbBt7BtGpOyb"
      },
      "outputs": [],
      "source": [
        "import numpy as np\n",
        "import matplotlib.pyplot as plt\n",
        "from random import randint\n",
        "import scipy.integrate as integrate"
      ]
    },
    {
      "cell_type": "code",
      "execution_count": null,
      "metadata": {
        "colab": {
          "base_uri": "https://localhost:8080/"
        },
        "id": "1fTJ1HzFYVfQ",
        "outputId": "2fec6535-e623-4793-cd19-c998233025a8"
      },
      "outputs": [
        {
          "name": "stdout",
          "output_type": "stream",
          "text": [
            "Collecting pynverse\n",
            "  Downloading https://files.pythonhosted.org/packages/88/f8/fb90087055b1502def9b6e835e80fa548996bf1439a81583e592f388f4c9/pynverse-0.1.4.4.tar.gz\n",
            "Requirement already satisfied: scipy>=0.11 in /usr/local/lib/python3.7/dist-packages (from pynverse) (1.4.1)\n",
            "Requirement already satisfied: numpy>=1.6 in /usr/local/lib/python3.7/dist-packages (from pynverse) (1.19.5)\n",
            "Building wheels for collected packages: pynverse\n",
            "  Building wheel for pynverse (setup.py) ... \u001b[?25l\u001b[?25hdone\n",
            "  Created wheel for pynverse: filename=pynverse-0.1.4.4-cp37-none-any.whl size=6365 sha256=dfc7c75c3160ca8e253d52393703e58a26d471f6e21770f0762503ab1cee5610\n",
            "  Stored in directory: /root/.cache/pip/wheels/80/ab/86/ec93f37613f012ba3e65c2bbd67e5c54cbc00d237574100c24\n",
            "Successfully built pynverse\n",
            "Installing collected packages: pynverse\n",
            "Successfully installed pynverse-0.1.4.4\n"
          ]
        }
      ],
      "source": [
        "pip install pynverse"
      ]
    },
    {
      "cell_type": "code",
      "execution_count": null,
      "metadata": {
        "id": "9qKDy4nyYbQy"
      },
      "outputs": [],
      "source": [
        "from pynverse import inversefunc"
      ]
    },
    {
      "cell_type": "code",
      "execution_count": null,
      "metadata": {
        "id": "D_l5ZW-spSRW"
      },
      "outputs": [],
      "source": [
        "class Hopfield():\n",
        "\n",
        "  def __init__(self,x,W,E,iters):\n",
        "    self.x = x;\n",
        "    self.T = self.create_T(W,E);\n",
        "    self.bias = self.create_bias(W,E);\n",
        "    self.iters = iters;\n",
        "\n",
        "  def create_T(self,W,E):\n",
        "    n = W.shape[0] #number of neurons\n",
        "    T = np.zeros((n,n))\n",
        "    for i in range(n):\n",
        "      for j in range(n):\n",
        "        if(i!=j):\n",
        "          T[i][j] = 2*E[i][j] - 4*W[i]*W[j]; \n",
        "    return T;\n",
        "\n",
        "  def create_bias(self,W,E):\n",
        "    n = W.shape[0] #number of neurons\n",
        "    B = np.zeros(n);\n",
        "    sum = np.sum(W);\n",
        "    for i in range(n):\n",
        "      B[i] = 2*W[i]*sum - 2*W[i]*W[i] - np.sum(E[i,:]);\n",
        "    return B; \n",
        "\n",
        "  def train(self):\n",
        "    err_lst = [];\n",
        "    n = self.x.shape[0];\n",
        "    for i in range(self.iters):\n",
        "      #error = self.cost();\n",
        "      #err_lst.append(error);\n",
        "      index = randint(0,n-1);\n",
        "      x[index] = self.update(index,i,err_lst);\n",
        "    return x,err_lst; \n",
        "\n",
        "  def add_noise(self):\n",
        "    noise1 = np.random.normal(0,0.5,self.bias.shape)\n",
        "    self.bias = self.bias + noise1  \n",
        "    noise2 = np.random.poisson(0.25,self.x.shape)\n",
        "    self.x = self.x + noise2\n",
        "\n",
        "  def cost(self,index):\n",
        "    func = lambda u : (1+np.tanh(u))/2\n",
        "    inv = inversefunc(func)\n",
        "    temp = np.dot(np.dot(np.transpose(self.x),self.T),self.x)\n",
        "    [cost] = -temp/2;\n",
        "    cost = cost - np.matmul(np.transpose(self.x),self.bias)\n",
        "    cost = cost + integrate.quad(lambda y :inv(y),0,x[index])\n",
        "    return cost;\n",
        "    \n",
        "  def update(self,index,i,err_lst):\n",
        "    n = self.x.shape[0];\n",
        "    err_lst.append(self.cost(index))\n",
        "    #noise1 = np.random.normal(0,5,1); # gaussian noise of zero mean\n",
        "    #noise2 = 0#np.random.poisson(1)\n",
        "    T0 = 10\n",
        "    temp = self.T[index,:].reshape(n,1);\n",
        "    val = np.matmul(np.transpose(self.x),temp);\n",
        "    I = val + self.bias[index]\n",
        "    #T = T0*(1-i/self.iters)*(1-i/self.iters)\n",
        "    #pb = 1/(1+np.exp(-I/T))\n",
        "    #pb = float(pb)\n",
        "    #new_state = np.random.choice([1,0],p=[pb,1-pb])\n",
        "    #return new_state\n",
        "    u = x[index]+(0.005)*(I-x[index]) #+(noise1+noise2)*(1-i/self.iters)*(1-i/self.iters)-x[index])\n",
        "    return (1+np.tanh(u))/2\n",
        "    #if(state>=700):\n",
        "      #return 1;\n",
        "    #if(state<=-700):\n",
        "      #return 0;  "
      ]
    },
    {
      "cell_type": "code",
      "execution_count": null,
      "metadata": {
        "colab": {
          "base_uri": "https://localhost:8080/",
          "height": 332
        },
        "id": "7Qi2_nWbtser",
        "outputId": "69ed806d-1e8f-4390-819d-3cd75e2e58eb"
      },
      "outputs": [
        {
          "data": {
            "text/plain": [
              "array([[0.01843585],\n",
              "       [0.01224667],\n",
              "       [0.97620377],\n",
              "       [0.98362762]])"
            ]
          },
          "execution_count": 7,
          "metadata": {
            "tags": []
          },
          "output_type": "execute_result"
        },
        {
          "data": {
            "image/png": "[encoded data removed]",
            "text/plain": [
              "<Figure size 432x288 with 1 Axes>"
            ]
          },
          "metadata": {
            "needs_background": "light",
            "tags": []
          },
          "output_type": "display_data"
        }
      ],
      "source": [
        "W = np.array([[10],[11],[12],[13]]);\n",
        "W = W\n",
        "x = np.random.uniform(size = (4,1))\n",
        "#print(x)\n",
        "E = np.array([[0,150,1,10],[150,0,10,10],[1,10,0,1],[10,10,1,0]])\n",
        "E = E\n",
        "h = Hopfield(x,W,E,80)\n",
        "x,err_lst = h.train()\n",
        "plt.plot(err_lst)\n",
        "x\n",
        "#err_lst"
      ]
    },
    {
      "cell_type": "code",
      "execution_count": null,
      "metadata": {
        "colab": {
          "base_uri": "https://localhost:8080/"
        },
        "id": "ichu6SPuzNG1",
        "outputId": "40ad2baf-4797-4868-84f6-31c69613b76b"
      },
      "outputs": [
        {
          "name": "stdout",
          "output_type": "stream",
          "text": [
            "0.62\n",
            "62\n"
          ]
        }
      ],
      "source": [
        "rep = 100\n",
        "counter=0;\n",
        "for i in range(rep):\n",
        "  W = np.array([[10],[11],[12],[13]]);\n",
        "  x = np.random.uniform(size = (4,1))\n",
        "  E = np.array([[0,150,1,10],[150,0,10,10],[1,10,0,1],[10,10,1,0]])\n",
        "  E = E\n",
        "  h = Hopfield(x,W,E,100)\n",
        "  x,err_lst = h.train()\n",
        "  if((x == np.array([[1.],[1.],[0.],[0.]])).all() or (x == np.array([[0.],[0.],[1.],[1.]])).all()):\n",
        "    counter+=1;\n",
        "print(counter/float(rep));    \n",
        "print(counter)"
      ]
    },
    {
      "cell_type": "code",
      "execution_count": null,
      "metadata": {
        "id": "dvqfIhn-VJOM"
      },
      "outputs": [],
      "source": []
    }
  ],
  "metadata": {
    "colab": {
      "provenance": []
    },
    "kernelspec": {
      "display_name": "Python 3",
      "name": "python3"
    },
    "language_info": {
      "codemirror_mode": {
        "name": "ipython",
        "version": 3
      },
      "file_extension": ".py",
      "mimetype": "text/x-python",
      "name": "python",
      "nbconvert_exporter": "python",
      "pygments_lexer": "ipython3",
      "version": "3.9.7"
    }
  },
  "nbformat": 4,
  "nbformat_minor": 0
}
